{
 "cells": [
  {
   "cell_type": "code",
   "execution_count": 1,
   "id": "671ba1e1-73cd-4cc1-aef7-894c42c15c1f",
   "metadata": {},
   "outputs": [
    {
     "name": "stderr",
     "output_type": "stream",
     "text": [
      "[nltk_data] Downloading package vader_lexicon to\n",
      "[nltk_data]     C:\\Users\\aleja\\AppData\\Roaming\\nltk_data...\n",
      "[nltk_data]   Package vader_lexicon is already up-to-date!\n"
     ]
    }
   ],
   "source": [
    "#importing required packages\n",
    "\n",
    "#for text\n",
    "from nltk.tokenize import word_tokenize, sent_tokenize\n",
    "import nltk\n",
    "from nltk.corpus import stopwords\n",
    "from string  import punctuation\n",
    "from nltk.collocations import *\n",
    "from nltk.stem.lancaster import LancasterStemmer\n",
    "from nltk.corpus import wordnet as wn\n",
    "from nltk.wsd import lesk\n",
    "from nltk.probability  import FreqDist\n",
    "from heapq import nlargest\n",
    "from collections import defaultdict\n",
    "\n",
    "\n",
    "#for donwload the webpage\n",
    "\n",
    "import requests\n",
    "import webbrowser\n",
    "from bs4 import BeautifulSoup\n",
    "import httplib2\n",
    "import httpbin\n",
    "import requests\n",
    "import httplib2\n",
    "import urllib\n",
    "import pandas as pd\n",
    "import numpy as np\n",
    "import webbrowser\n",
    "from pprint import pprint\n",
    "import json \n",
    "\n",
    "#for sentiments analysis\n",
    "\n",
    "import twitter\n",
    "import json\n",
    "from collections import Counter\n",
    "import os \n",
    "import nltk\n",
    "nltk.download('vader_lexicon')\n",
    "import matplotlib.pyplot as plt\n",
    "from prettytable import PrettyTable\n",
    "from collections import Counter\n",
    "import numpy as np\n",
    "from nltk.sentiment.vader import SentimentIntensityAnalyzer\n",
    "\n",
    "import numpy as np\n",
    "import pandas as pd\n",
    "import matplotlib.pyplot as plt\n",
    "%matplotlib inline\n",
    "\n",
    "from nltk.corpus import stopwords\n",
    "from textblob import TextBlob\n",
    "from textblob import Word"
   ]
  }
 ],
 "metadata": {
  "kernelspec": {
   "display_name": "Python 3 (ipykernel)",
   "language": "python",
   "name": "python3"
  },
  "language_info": {
   "codemirror_mode": {
    "name": "ipython",
    "version": 3
   },
   "file_extension": ".py",
   "mimetype": "text/x-python",
   "name": "python",
   "nbconvert_exporter": "python",
   "pygments_lexer": "ipython3",
   "version": "3.9.8"
  }
 },
 "nbformat": 4,
 "nbformat_minor": 5
}
